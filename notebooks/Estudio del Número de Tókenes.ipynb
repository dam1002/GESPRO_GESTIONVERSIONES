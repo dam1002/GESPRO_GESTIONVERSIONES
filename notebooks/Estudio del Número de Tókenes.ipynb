{
 "cells": [
  {
   "cell_type": "markdown",
   "metadata": {},
   "source": [
    "<img src=\"https://raw.githubusercontent.com/dmlls/jizt/c2d7b9b81783e298d1898b5743b147d1faff8f29/images/JIZT-logo.svg\" title=\"JIZT\" alt=\"JIZT\" width=\"230\" align=\"left\" style=\"margin-top:15px;margin-right:30px;\" />\n",
    "\n",
    "---\n",
    "\n",
    "### Estudio del Número de Tókenes\n",
    "[Diego Miguel Lozano](https://github.com/dmlls) \\\n",
    "GPL-3.0 License\n",
    "\n",
    "*Última actualización: 8 de noviembre de 2020*\n",
    "\n",
    "---"
   ]
  },
  {
   "cell_type": "markdown",
   "metadata": {},
   "source": [
    "# Introducción\n",
    "\n",
    "Este notebook lleva a cabo un análisis sobre las relaciones entre:\n",
    "- Número de caracteres / Número de tókenes codificados\n",
    "- Número de tókens (palabras + puntuación, sin codificar) / Número de tókenes codificados\n",
    "\n",
    "El estudio se centra en los modelos `Bart` y `T5` implementados por la librería Hugging Face. Los textos empleados como ejemplo están en inglés, dado que estos modelos están optimizados para este idioma.\n",
    "\n",
    "Si tras este análisis determinamos que estas relaciones no sufren grandes variaciones independientemente de la longitud del texto, esto nos permitirá realizar una división *a piori* del texto para ajustarlo a la longitud de entrada máxima de los modelos. Con división *a priori*, nos referimos a llevar a cabo una división del texto *antes* de codificarlo, ya que una vez codificado, perdemos la noción de \"frase\" y por tanto no podemos llevar a cabo una división que mantenga la coherencia y cohesión del texto, esto es, sin partir frases."
   ]
  },
  {
   "cell_type": "markdown",
   "metadata": {},
   "source": [
    "---\n",
    "\n",
    "---\n",
    "\n",
    "\n",
    "---"
   ]
  },
  {
   "cell_type": "markdown",
   "metadata": {},
   "source": [
    "# Preprocesamiento del texto\n",
    "\n",
    "Para el preprocesamiento del texto haremos uso de la función `preprocess_text` explicada en detalle en el jupyter notebook llamado \"Preprocesamiento del texto\"."
   ]
  },
  {
   "cell_type": "code",
   "execution_count": 1,
   "metadata": {},
   "outputs": [],
   "source": [
    "from nltk.tokenize import RegexpTokenizer\n",
    "from nltk import sent_tokenize\n",
    "\n",
    "def preprocess_text(text, tokenizer=None, return_as_list=False):\n",
    "    if tokenizer is None:\n",
    "        # if next letter after period is lowercase, consider it part of the same sentence\n",
    "        # ex: \"As we can see in Figure 1.1. the sentence will not be split.\"\n",
    "        tokenizer = RegexpTokenizer(r'[^.!?]+[.!?]+[^A-Z]*')\n",
    "        if text[-1] != '.': # if there's not final period, add it so the regex matches the last sentence\n",
    "            text += '.'\n",
    "    \n",
    "    text = ' '.join(text.split()) # remove '\\n', '\\t', etc.\n",
    "    \n",
    "    sentences = ' '.join(tokenizer.tokenize(text)).replace('  ', ' ') # ensure there's 1 whitespace at most\n",
    "\n",
    "    sentences = sent_tokenize(sentences)\n",
    "\n",
    "    final_sentences = [sentences[0]]\n",
    "    \n",
    "    for sent in sentences[1:]:\n",
    "        # if the previous sentence doesn't end with a '.', '!' or '?' we concatenate the current sentence to it\n",
    "        if final_sentences[-1][-1] != '.' and final_sentences[-1][-1] != '!' and final_sentences[-1][-1] != '?':\n",
    "            final_sentences[-1] += ' ' + sent\n",
    "        # if the next sentence doesn't start with a letter or a number, concatenate it to the previous\n",
    "        elif not sent[0].isalpha() and not sent[0].isdigit():\n",
    "            final_sentences[-1] += sent\n",
    "        else:\n",
    "            final_sentences.append(sent)\n",
    "                                       \n",
    "    return final_sentences if return_as_list else ' '.join(final_sentences)"
   ]
  },
  {
   "cell_type": "markdown",
   "metadata": {},
   "source": [
    "---\n",
    "\n",
    "---\n",
    "\n",
    "---"
   ]
  },
  {
   "cell_type": "markdown",
   "metadata": {},
   "source": [
    "# Textos [<sup>1</sup>](#fn1)\n",
    "<span id=\"fn1\">[<sup>1</sup>](#fn1) (extraídos de hilos reales de Twitter)</span>"
   ]
  },
  {
   "cell_type": "markdown",
   "metadata": {},
   "source": [
    "Definamos una pequeña función para importar los textos desde ficheros .txt."
   ]
  },
  {
   "cell_type": "code",
   "execution_count": 7,
   "metadata": {},
   "outputs": [],
   "source": [
    "import os, os.path\n",
    "\n",
    "def read_texts(texts_dir='./texts', texts_base_filename='text_', texts_extension='.txt'):\n",
    "    \"\"\"Reads all files in the specified directory into a list of strings.\"\"\"\n",
    "    \n",
    "    # get number of texts matching texts_base_filename\n",
    "    n_texts = len([name for name in os.listdir(texts_dir) \\\n",
    "                   if os.path.isfile(os.path.join(texts_dir, name)) and\n",
    "                          name[:len(texts_base_filename)] == texts_base_filename])\n",
    "\n",
    "    texts = []\n",
    "\n",
    "    for i in range(1, n_texts + 1):\n",
    "        with open(texts_dir + '/' + texts_base_filename + str(i) + texts_extension, 'r') as file:\n",
    "            texts.append(file.read())\n",
    "    \n",
    "    return texts"
   ]
  },
  {
   "cell_type": "code",
   "execution_count": 8,
   "metadata": {},
   "outputs": [],
   "source": [
    "texts = read_texts()"
   ]
  },
  {
   "cell_type": "code",
   "execution_count": 9,
   "metadata": {
    "scrolled": true
   },
   "outputs": [
    {
     "data": {
      "text/plain": [
       "\"Man really in the mood to draw some kind of sad 'symbolism' with Sharon\\n\\nBasically I had this idea that you see two other 'Sharons' with this very creepy grin and they backstab the original. \\n\\nAnd after that you see a third show up. Sharon in her demon form. The demon form--\\n--'swallows' her. And Sharon keeps falling down. Seeing all of the people she's lost in the position she saw them in last. So if for example one of them had been st*bbed you'd see them like that.\\n\\nThey then start to chant to her some very horrible things. But... they've never--\\n--even said such things to her. Those horrible things they keep chanting are her own thoughts she keeps telling herself because of all the guilt she feels.\\n\\nAnd then when she reaches the last person she had lost. Her childhood friend. (He was the only one not k*lled. He was--\\n--being t0rtured by her 'clone' to make him start fearing Sharon so he'd run away.) \\n\\nShe finally wakes up from the nightmare crying and screaming.\\n\\nBasically:\\n''You are your own worst enemy''\\n\""
      ]
     },
     "execution_count": 9,
     "metadata": {},
     "output_type": "execute_result"
    }
   ],
   "source": [
    "# example\n",
    "\n",
    "texts[1]"
   ]
  },
  {
   "cell_type": "code",
   "execution_count": 10,
   "metadata": {},
   "outputs": [],
   "source": [
    "articles = read_texts(texts_base_filename='article_')"
   ]
  },
  {
   "cell_type": "code",
   "execution_count": 11,
   "metadata": {},
   "outputs": [
    {
     "data": {
      "text/plain": [
       "'On Witness and Respair: A Personal Tragedy Followed by Pandemic - Jesmyn Ward\\n\\nMy Beloved died in January. He was a foot taller than me and had large, beautiful dark eyes and dexterous, kind hands. He fixed me breakfast and pots of loose-leaf tea every morning. He cried at both of our children’s births, silently, tears glazing his face. Before I drove our children to school in the pale dawn light, he would put both hands on the top of his head and dance in the driveway to make the kids laugh. He was funny, quick-witted, and could inspire the kind of laughter that cramped m'"
      ]
     },
     "execution_count": 11,
     "metadata": {},
     "output_type": "execute_result"
    }
   ],
   "source": [
    "#example\n",
    "\n",
    "articles[0][:579]"
   ]
  },
  {
   "cell_type": "markdown",
   "metadata": {},
   "source": [
    "---\n",
    "\n",
    "---\n",
    "\n",
    "---"
   ]
  },
  {
   "cell_type": "markdown",
   "metadata": {},
   "source": [
    "# Análisis"
   ]
  },
  {
   "cell_type": "markdown",
   "metadata": {},
   "source": [
    "Como vamos a utilizar textos más largos que la máxima longitud de secuencia admitida por los tokenizadores usados, obtendremos *warnings* al realizar la codificación de los textos como el siguiente:\n",
    "\n",
    "`Token indices sequence length is longer than the specified maximum sequence length for this model (552 > 512). Running this sequence through the model will result in indexing errors`\n",
    "\n",
    "En nuestro caso, somos conscientes de este hecho, porque en este momento solo estamos interesados en conocer el número de tókens genereados, aún no vamos a pasar esos tókens codificados al modelo.\n",
    "\n",
    "Por ello, vamos a desactivar estos *warnings* para aumentar la claridad de las ejecuciones."
   ]
  },
  {
   "cell_type": "code",
   "execution_count": 12,
   "metadata": {},
   "outputs": [],
   "source": [
    "import logging\n",
    "\n",
    "# deactivate warnings from the tokenizers\n",
    "logging.getLogger(\"transformers.tokenization_utils_base\").setLevel(logging.ERROR)"
   ]
  },
  {
   "cell_type": "markdown",
   "metadata": {},
   "source": [
    "Una vez hecho esto, podemos comenzar con el análisis."
   ]
  },
  {
   "cell_type": "markdown",
   "metadata": {},
   "source": [
    "---"
   ]
  },
  {
   "cell_type": "markdown",
   "metadata": {},
   "source": [
    "## Hilos de Twitter"
   ]
  },
  {
   "cell_type": "markdown",
   "metadata": {},
   "source": [
    "### Número de caracteres / Número de tókenes codificados"
   ]
  },
  {
   "cell_type": "code",
   "execution_count": 13,
   "metadata": {},
   "outputs": [],
   "source": [
    "def char_count(string):\n",
    "    \"\"\"Counts the characters in a string.\"\"\"\n",
    "    \n",
    "    return len(string)"
   ]
  },
  {
   "cell_type": "code",
   "execution_count": 14,
   "metadata": {},
   "outputs": [],
   "source": [
    "def ratio_to_codified_tokens(text, count_function, tokenizer):\n",
    "    \"\"\"Calculates the ratio between certain count and the number of codified tokens.\n",
    "    \n",
    "    Args:\n",
    "        text:\n",
    "            Text to be analysed.\n",
    "        count_function:\n",
    "            Way of calculating the count on the text.\n",
    "        tokenizer:\n",
    "            Tokenizer model used to encode the text.\n",
    "        \n",
    "    Returns:\n",
    "        The ratio calculated, the number returned by count_function and the\n",
    "        number of encoded tokens.\n",
    "    \"\"\"\n",
    "\n",
    "    count = count_function(text)\n",
    "    n_enc_tokens = len(tokenizer.encode(text))\n",
    "    \n",
    "    return count/n_enc_tokens, count, n_enc_tokens"
   ]
  },
  {
   "cell_type": "code",
   "execution_count": 15,
   "metadata": {},
   "outputs": [],
   "source": [
    "import numpy as np\n",
    "\n",
    "def print_ratio(texts, count_function, count_description, tokenizer):\n",
    "    \"\"\"Prints the ratio between certain count and the number of codified tokens.\n",
    "    \n",
    "    Args:\n",
    "        texts:\n",
    "            List of texts to be analysed.\n",
    "        count_function:\n",
    "            Way of calculating the count on the text.\n",
    "        count_description:\n",
    "            String explaining what the count_function refers to.\n",
    "        tokenizer:\n",
    "            Tokenizer model used to encode the text.\n",
    "    \"\"\"\n",
    "    \n",
    "    count_dict = dict()\n",
    "    ratios = []\n",
    "\n",
    "    for i in range(len(texts)):\n",
    "        ratio, count, n_enc_tokens = ratio_to_codified_tokens(texts[i], count_function, tokenizer)\n",
    "        count_dict[i+1] = count\n",
    "        ratios.append(ratio)\n",
    "        print(f\"Text {i+1}:\")\n",
    "        print(f\"  {'N. ' + count_description + ':' : <20} {count}\")\n",
    "        print(f\"  {'N. encoded tokens:' : <20} {n_enc_tokens}\")\n",
    "        print(f\"  {'Ratio (char/tokens):' : <20} {ratio}\\n\")\n",
    "    \n",
    "    print(f\"\\nMinimum: (ratios): {np.min(ratios)}\\n\")\n",
    "    print(f\"Maximum (ratios): {np.max(ratios)}\\n\")\n",
    "    print(f\"Average (ratios): {np.mean(ratios)}\\n\")\n",
    "    print(f\"Std. deviation (ratios): {np.std(ratios)}\\n\")"
   ]
  },
  {
   "cell_type": "markdown",
   "metadata": {},
   "source": [
    "---"
   ]
  },
  {
   "cell_type": "markdown",
   "metadata": {},
   "source": [
    "#### Modelo T5-base"
   ]
  },
  {
   "cell_type": "code",
   "execution_count": 16,
   "metadata": {},
   "outputs": [],
   "source": [
    "from transformers import T5Tokenizer\n",
    "\n",
    "t5_tokenizer = T5Tokenizer.from_pretrained('t5-base')"
   ]
  },
  {
   "cell_type": "code",
   "execution_count": 18,
   "metadata": {
    "scrolled": true
   },
   "outputs": [
    {
     "name": "stdout",
     "output_type": "stream",
     "text": [
      "Text 1:\n",
      "  N. characters:       925\n",
      "  N. encoded tokens:   223\n",
      "  Ratio (char/tokens): 4.147982062780269\n",
      "\n",
      "Text 2:\n",
      "  N. characters:       1025\n",
      "  N. encoded tokens:   280\n",
      "  Ratio (char/tokens): 3.6607142857142856\n",
      "\n",
      "Text 3:\n",
      "  N. characters:       1222\n",
      "  N. encoded tokens:   306\n",
      "  Ratio (char/tokens): 3.9934640522875817\n",
      "\n",
      "Text 4:\n",
      "  N. characters:       1224\n",
      "  N. encoded tokens:   393\n",
      "  Ratio (char/tokens): 3.114503816793893\n",
      "\n",
      "Text 5:\n",
      "  N. characters:       1662\n",
      "  N. encoded tokens:   452\n",
      "  Ratio (char/tokens): 3.6769911504424777\n",
      "\n",
      "Text 6:\n",
      "  N. characters:       2336\n",
      "  N. encoded tokens:   552\n",
      "  Ratio (char/tokens): 4.231884057971015\n",
      "\n",
      "Text 7:\n",
      "  N. characters:       2562\n",
      "  N. encoded tokens:   591\n",
      "  Ratio (char/tokens): 4.33502538071066\n",
      "\n",
      "Text 8:\n",
      "  N. characters:       2637\n",
      "  N. encoded tokens:   665\n",
      "  Ratio (char/tokens): 3.9654135338345866\n",
      "\n",
      "Text 9:\n",
      "  N. characters:       2706\n",
      "  N. encoded tokens:   681\n",
      "  Ratio (char/tokens): 3.973568281938326\n",
      "\n",
      "Text 10:\n",
      "  N. characters:       2972\n",
      "  N. encoded tokens:   761\n",
      "  Ratio (char/tokens): 3.9053876478318004\n",
      "\n",
      "Text 11:\n",
      "  N. characters:       3027\n",
      "  N. encoded tokens:   737\n",
      "  Ratio (char/tokens): 4.10719131614654\n",
      "\n",
      "Text 12:\n",
      "  N. characters:       3045\n",
      "  N. encoded tokens:   739\n",
      "  Ratio (char/tokens): 4.120433017591339\n",
      "\n",
      "Text 13:\n",
      "  N. characters:       3443\n",
      "  N. encoded tokens:   859\n",
      "  Ratio (char/tokens): 4.008149010477299\n",
      "\n",
      "Text 14:\n",
      "  N. characters:       3485\n",
      "  N. encoded tokens:   932\n",
      "  Ratio (char/tokens): 3.7392703862660945\n",
      "\n",
      "Text 15:\n",
      "  N. characters:       3693\n",
      "  N. encoded tokens:   905\n",
      "  Ratio (char/tokens): 4.080662983425414\n",
      "\n",
      "Text 16:\n",
      "  N. characters:       4569\n",
      "  N. encoded tokens:   1136\n",
      "  Ratio (char/tokens): 4.022007042253521\n",
      "\n",
      "Text 17:\n",
      "  N. characters:       5861\n",
      "  N. encoded tokens:   1415\n",
      "  Ratio (char/tokens): 4.142049469964665\n",
      "\n",
      "Text 18:\n",
      "  N. characters:       5978\n",
      "  N. encoded tokens:   1613\n",
      "  Ratio (char/tokens): 3.7061376317420955\n",
      "\n",
      "Text 19:\n",
      "  N. characters:       6020\n",
      "  N. encoded tokens:   1608\n",
      "  Ratio (char/tokens): 3.743781094527363\n",
      "\n",
      "Text 20:\n",
      "  N. characters:       6186\n",
      "  N. encoded tokens:   1540\n",
      "  Ratio (char/tokens): 4.0168831168831165\n",
      "\n",
      "Text 21:\n",
      "  N. characters:       7185\n",
      "  N. encoded tokens:   1775\n",
      "  Ratio (char/tokens): 4.047887323943662\n",
      "\n",
      "Text 22:\n",
      "  N. characters:       7356\n",
      "  N. encoded tokens:   1990\n",
      "  Ratio (char/tokens): 3.6964824120603015\n",
      "\n",
      "Text 23:\n",
      "  N. characters:       13280\n",
      "  N. encoded tokens:   3552\n",
      "  Ratio (char/tokens): 3.7387387387387387\n",
      "\n",
      "Text 24:\n",
      "  N. characters:       13432\n",
      "  N. encoded tokens:   3249\n",
      "  Ratio (char/tokens): 4.13419513696522\n",
      "\n",
      "Text 25:\n",
      "  N. characters:       19659\n",
      "  N. encoded tokens:   5283\n",
      "  Ratio (char/tokens): 3.721181147075525\n",
      "\n",
      "\n",
      "Minimum: (ratios): 3.114503816793893\n",
      "\n",
      "Maximum (ratios): 4.33502538071066\n",
      "\n",
      "Average (ratios): 3.9211993639346314\n",
      "\n",
      "Std. deviation (ratios): 0.25131923178606536\n",
      "\n"
     ]
    }
   ],
   "source": [
    "print_ratio(texts, char_count, 'characters', t5_tokenizer)"
   ]
  },
  {
   "cell_type": "markdown",
   "metadata": {},
   "source": [
    "---"
   ]
  },
  {
   "cell_type": "markdown",
   "metadata": {},
   "source": [
    "#### Modelo bart-base"
   ]
  },
  {
   "cell_type": "code",
   "execution_count": 19,
   "metadata": {},
   "outputs": [],
   "source": [
    "from transformers import BartTokenizer\n",
    "\n",
    "bart_tokenizer = BartTokenizer.from_pretrained('facebook/bart-base')"
   ]
  },
  {
   "cell_type": "code",
   "execution_count": 20,
   "metadata": {
    "scrolled": true
   },
   "outputs": [
    {
     "name": "stdout",
     "output_type": "stream",
     "text": [
      "Text 1:\n",
      "  N. characters:       925\n",
      "  N. encoded tokens:   213\n",
      "  Ratio (char/tokens): 4.342723004694836\n",
      "\n",
      "Text 2:\n",
      "  N. characters:       1025\n",
      "  N. encoded tokens:   257\n",
      "  Ratio (char/tokens): 3.9883268482490273\n",
      "\n",
      "Text 3:\n",
      "  N. characters:       1222\n",
      "  N. encoded tokens:   327\n",
      "  Ratio (char/tokens): 3.7370030581039755\n",
      "\n",
      "Text 4:\n",
      "  N. characters:       1224\n",
      "  N. encoded tokens:   373\n",
      "  Ratio (char/tokens): 3.2815013404825737\n",
      "\n",
      "Text 5:\n",
      "  N. characters:       1662\n",
      "  N. encoded tokens:   426\n",
      "  Ratio (char/tokens): 3.9014084507042255\n",
      "\n",
      "Text 6:\n",
      "  N. characters:       2336\n",
      "  N. encoded tokens:   514\n",
      "  Ratio (char/tokens): 4.544747081712062\n",
      "\n",
      "Text 7:\n",
      "  N. characters:       2562\n",
      "  N. encoded tokens:   599\n",
      "  Ratio (char/tokens): 4.277128547579299\n",
      "\n",
      "Text 8:\n",
      "  N. characters:       2637\n",
      "  N. encoded tokens:   626\n",
      "  Ratio (char/tokens): 4.212460063897764\n",
      "\n",
      "Text 9:\n",
      "  N. characters:       2706\n",
      "  N. encoded tokens:   677\n",
      "  Ratio (char/tokens): 3.9970457902511076\n",
      "\n",
      "Text 10:\n",
      "  N. characters:       2972\n",
      "  N. encoded tokens:   726\n",
      "  Ratio (char/tokens): 4.09366391184573\n",
      "\n",
      "Text 11:\n",
      "  N. characters:       3027\n",
      "  N. encoded tokens:   693\n",
      "  Ratio (char/tokens): 4.367965367965368\n",
      "\n",
      "Text 12:\n",
      "  N. characters:       3045\n",
      "  N. encoded tokens:   734\n",
      "  Ratio (char/tokens): 4.14850136239782\n",
      "\n",
      "Text 13:\n",
      "  N. characters:       3443\n",
      "  N. encoded tokens:   849\n",
      "  Ratio (char/tokens): 4.055359246171967\n",
      "\n",
      "Text 14:\n",
      "  N. characters:       3485\n",
      "  N. encoded tokens:   920\n",
      "  Ratio (char/tokens): 3.7880434782608696\n",
      "\n",
      "Text 15:\n",
      "  N. characters:       3693\n",
      "  N. encoded tokens:   956\n",
      "  Ratio (char/tokens): 3.8629707112970713\n",
      "\n",
      "Text 16:\n",
      "  N. characters:       4569\n",
      "  N. encoded tokens:   979\n",
      "  Ratio (char/tokens): 4.667007150153218\n",
      "\n",
      "Text 17:\n",
      "  N. characters:       5861\n",
      "  N. encoded tokens:   1349\n",
      "  Ratio (char/tokens): 4.344699777613046\n",
      "\n",
      "Text 18:\n",
      "  N. characters:       5978\n",
      "  N. encoded tokens:   1524\n",
      "  Ratio (char/tokens): 3.92257217847769\n",
      "\n",
      "Text 19:\n",
      "  N. characters:       6020\n",
      "  N. encoded tokens:   1455\n",
      "  Ratio (char/tokens): 4.13745704467354\n",
      "\n",
      "Text 20:\n",
      "  N. characters:       6186\n",
      "  N. encoded tokens:   1518\n",
      "  Ratio (char/tokens): 4.075098814229249\n",
      "\n",
      "Text 21:\n",
      "  N. characters:       7185\n",
      "  N. encoded tokens:   1582\n",
      "  Ratio (char/tokens): 4.541719342604298\n",
      "\n",
      "Text 22:\n",
      "  N. characters:       7356\n",
      "  N. encoded tokens:   1863\n",
      "  Ratio (char/tokens): 3.9484702093397748\n",
      "\n",
      "Text 23:\n",
      "  N. characters:       13280\n",
      "  N. encoded tokens:   3318\n",
      "  Ratio (char/tokens): 4.002411091018686\n",
      "\n",
      "Text 24:\n",
      "  N. characters:       13432\n",
      "  N. encoded tokens:   3054\n",
      "  Ratio (char/tokens): 4.3981663392272425\n",
      "\n",
      "Text 25:\n",
      "  N. characters:       19659\n",
      "  N. encoded tokens:   4835\n",
      "  Ratio (char/tokens): 4.065977249224406\n",
      "\n",
      "\n",
      "Minimum: (ratios): 3.2815013404825737\n",
      "\n",
      "Maximum (ratios): 4.667007150153218\n",
      "\n",
      "Average (ratios): 4.1080970984069936\n",
      "\n",
      "Std. deviation (ratios): 0.29158490639384244\n",
      "\n"
     ]
    }
   ],
   "source": [
    "print_ratio(texts, char_count, 'characters', bart_tokenizer)"
   ]
  },
  {
   "cell_type": "markdown",
   "metadata": {},
   "source": [
    "---"
   ]
  },
  {
   "cell_type": "markdown",
   "metadata": {},
   "source": [
    "### Número de tókens (palabras + puntuación, sin codificar) / Número de tókenes codificados"
   ]
  },
  {
   "cell_type": "code",
   "execution_count": 21,
   "metadata": {},
   "outputs": [],
   "source": [
    "from nltk import word_tokenize\n",
    "\n",
    "def token_count(string):\n",
    "    \"\"\"Counts the tokens in a string.\n",
    "    \n",
    "    A token can be either a word or a punctuation mark.\n",
    "    \"\"\"\n",
    "    \n",
    "    return len(word_tokenize(string))"
   ]
  },
  {
   "cell_type": "markdown",
   "metadata": {},
   "source": [
    "---"
   ]
  },
  {
   "cell_type": "markdown",
   "metadata": {},
   "source": [
    "#### Modelo T5-base"
   ]
  },
  {
   "cell_type": "code",
   "execution_count": 22,
   "metadata": {
    "scrolled": true
   },
   "outputs": [
    {
     "name": "stdout",
     "output_type": "stream",
     "text": [
      "Text 1:\n",
      "  N. tokens:           187\n",
      "  N. encoded tokens:   223\n",
      "  Ratio (char/tokens): 0.8385650224215246\n",
      "\n",
      "Text 2:\n",
      "  N. tokens:           223\n",
      "  N. encoded tokens:   280\n",
      "  Ratio (char/tokens): 0.7964285714285714\n",
      "\n",
      "Text 3:\n",
      "  N. tokens:           300\n",
      "  N. encoded tokens:   306\n",
      "  Ratio (char/tokens): 0.9803921568627451\n",
      "\n",
      "Text 4:\n",
      "  N. tokens:           250\n",
      "  N. encoded tokens:   393\n",
      "  Ratio (char/tokens): 0.6361323155216285\n",
      "\n",
      "Text 5:\n",
      "  N. tokens:           359\n",
      "  N. encoded tokens:   452\n",
      "  Ratio (char/tokens): 0.7942477876106194\n",
      "\n",
      "Text 6:\n",
      "  N. tokens:           442\n",
      "  N. encoded tokens:   552\n",
      "  Ratio (char/tokens): 0.8007246376811594\n",
      "\n",
      "Text 7:\n",
      "  N. tokens:           477\n",
      "  N. encoded tokens:   591\n",
      "  Ratio (char/tokens): 0.8071065989847716\n",
      "\n",
      "Text 8:\n",
      "  N. tokens:           575\n",
      "  N. encoded tokens:   665\n",
      "  Ratio (char/tokens): 0.8646616541353384\n",
      "\n",
      "Text 9:\n",
      "  N. tokens:           541\n",
      "  N. encoded tokens:   681\n",
      "  Ratio (char/tokens): 0.7944199706314243\n",
      "\n",
      "Text 10:\n",
      "  N. tokens:           551\n",
      "  N. encoded tokens:   761\n",
      "  Ratio (char/tokens): 0.7240473061760841\n",
      "\n",
      "Text 11:\n",
      "  N. tokens:           541\n",
      "  N. encoded tokens:   737\n",
      "  Ratio (char/tokens): 0.7340569877883311\n",
      "\n",
      "Text 12:\n",
      "  N. tokens:           602\n",
      "  N. encoded tokens:   739\n",
      "  Ratio (char/tokens): 0.8146143437077131\n",
      "\n",
      "Text 13:\n",
      "  N. tokens:           689\n",
      "  N. encoded tokens:   859\n",
      "  Ratio (char/tokens): 0.8020954598370198\n",
      "\n",
      "Text 14:\n",
      "  N. tokens:           718\n",
      "  N. encoded tokens:   932\n",
      "  Ratio (char/tokens): 0.7703862660944206\n",
      "\n",
      "Text 15:\n",
      "  N. tokens:           738\n",
      "  N. encoded tokens:   905\n",
      "  Ratio (char/tokens): 0.8154696132596685\n",
      "\n",
      "Text 16:\n",
      "  N. tokens:           875\n",
      "  N. encoded tokens:   1136\n",
      "  Ratio (char/tokens): 0.7702464788732394\n",
      "\n",
      "Text 17:\n",
      "  N. tokens:           1233\n",
      "  N. encoded tokens:   1415\n",
      "  Ratio (char/tokens): 0.8713780918727915\n",
      "\n",
      "Text 18:\n",
      "  N. tokens:           1055\n",
      "  N. encoded tokens:   1613\n",
      "  Ratio (char/tokens): 0.6540607563546187\n",
      "\n",
      "Text 19:\n",
      "  N. tokens:           1255\n",
      "  N. encoded tokens:   1608\n",
      "  Ratio (char/tokens): 0.7804726368159204\n",
      "\n",
      "Text 20:\n",
      "  N. tokens:           1330\n",
      "  N. encoded tokens:   1540\n",
      "  Ratio (char/tokens): 0.8636363636363636\n",
      "\n",
      "Text 21:\n",
      "  N. tokens:           1413\n",
      "  N. encoded tokens:   1775\n",
      "  Ratio (char/tokens): 0.796056338028169\n",
      "\n",
      "Text 22:\n",
      "  N. tokens:           1449\n",
      "  N. encoded tokens:   1990\n",
      "  Ratio (char/tokens): 0.728140703517588\n",
      "\n",
      "Text 23:\n",
      "  N. tokens:           2695\n",
      "  N. encoded tokens:   3552\n",
      "  Ratio (char/tokens): 0.7587274774774775\n",
      "\n",
      "Text 24:\n",
      "  N. tokens:           2349\n",
      "  N. encoded tokens:   3249\n",
      "  Ratio (char/tokens): 0.7229916897506925\n",
      "\n",
      "Text 25:\n",
      "  N. tokens:           4153\n",
      "  N. encoded tokens:   5283\n",
      "  Ratio (char/tokens): 0.7861063789513534\n",
      "\n",
      "\n",
      "Minimum: (ratios): 0.6361323155216285\n",
      "\n",
      "Maximum (ratios): 0.9803921568627451\n",
      "\n",
      "Average (ratios): 0.7882066242967692\n",
      "\n",
      "Std. deviation (ratios): 0.06866734755457414\n",
      "\n"
     ]
    }
   ],
   "source": [
    "print_ratio(texts, token_count, 'tokens', t5_tokenizer)"
   ]
  },
  {
   "cell_type": "markdown",
   "metadata": {},
   "source": [
    "---"
   ]
  },
  {
   "cell_type": "markdown",
   "metadata": {},
   "source": [
    "#### Modelo bart-base"
   ]
  },
  {
   "cell_type": "code",
   "execution_count": 23,
   "metadata": {
    "scrolled": true
   },
   "outputs": [
    {
     "name": "stdout",
     "output_type": "stream",
     "text": [
      "Text 1:\n",
      "  N. tokens:           187\n",
      "  N. encoded tokens:   213\n",
      "  Ratio (char/tokens): 0.8779342723004695\n",
      "\n",
      "Text 2:\n",
      "  N. tokens:           223\n",
      "  N. encoded tokens:   257\n",
      "  Ratio (char/tokens): 0.867704280155642\n",
      "\n",
      "Text 3:\n",
      "  N. tokens:           300\n",
      "  N. encoded tokens:   327\n",
      "  Ratio (char/tokens): 0.9174311926605505\n",
      "\n",
      "Text 4:\n",
      "  N. tokens:           250\n",
      "  N. encoded tokens:   373\n",
      "  Ratio (char/tokens): 0.6702412868632708\n",
      "\n",
      "Text 5:\n",
      "  N. tokens:           359\n",
      "  N. encoded tokens:   426\n",
      "  Ratio (char/tokens): 0.8427230046948356\n",
      "\n",
      "Text 6:\n",
      "  N. tokens:           442\n",
      "  N. encoded tokens:   514\n",
      "  Ratio (char/tokens): 0.8599221789883269\n",
      "\n",
      "Text 7:\n",
      "  N. tokens:           477\n",
      "  N. encoded tokens:   599\n",
      "  Ratio (char/tokens): 0.7963272120200334\n",
      "\n",
      "Text 8:\n",
      "  N. tokens:           575\n",
      "  N. encoded tokens:   626\n",
      "  Ratio (char/tokens): 0.9185303514376997\n",
      "\n",
      "Text 9:\n",
      "  N. tokens:           541\n",
      "  N. encoded tokens:   677\n",
      "  Ratio (char/tokens): 0.7991137370753324\n",
      "\n",
      "Text 10:\n",
      "  N. tokens:           551\n",
      "  N. encoded tokens:   726\n",
      "  Ratio (char/tokens): 0.7589531680440771\n",
      "\n",
      "Text 11:\n",
      "  N. tokens:           541\n",
      "  N. encoded tokens:   693\n",
      "  Ratio (char/tokens): 0.7806637806637806\n",
      "\n",
      "Text 12:\n",
      "  N. tokens:           602\n",
      "  N. encoded tokens:   734\n",
      "  Ratio (char/tokens): 0.8201634877384196\n",
      "\n",
      "Text 13:\n",
      "  N. tokens:           689\n",
      "  N. encoded tokens:   849\n",
      "  Ratio (char/tokens): 0.8115429917550059\n",
      "\n",
      "Text 14:\n",
      "  N. tokens:           718\n",
      "  N. encoded tokens:   920\n",
      "  Ratio (char/tokens): 0.7804347826086957\n",
      "\n",
      "Text 15:\n",
      "  N. tokens:           738\n",
      "  N. encoded tokens:   956\n",
      "  Ratio (char/tokens): 0.7719665271966527\n",
      "\n",
      "Text 16:\n",
      "  N. tokens:           875\n",
      "  N. encoded tokens:   979\n",
      "  Ratio (char/tokens): 0.8937691521961185\n",
      "\n",
      "Text 17:\n",
      "  N. tokens:           1233\n",
      "  N. encoded tokens:   1349\n",
      "  Ratio (char/tokens): 0.9140103780578206\n",
      "\n",
      "Text 18:\n",
      "  N. tokens:           1055\n",
      "  N. encoded tokens:   1524\n",
      "  Ratio (char/tokens): 0.6922572178477691\n",
      "\n",
      "Text 19:\n",
      "  N. tokens:           1255\n",
      "  N. encoded tokens:   1455\n",
      "  Ratio (char/tokens): 0.8625429553264605\n",
      "\n",
      "Text 20:\n",
      "  N. tokens:           1330\n",
      "  N. encoded tokens:   1518\n",
      "  Ratio (char/tokens): 0.8761528326745718\n",
      "\n",
      "Text 21:\n",
      "  N. tokens:           1413\n",
      "  N. encoded tokens:   1582\n",
      "  Ratio (char/tokens): 0.893173198482933\n",
      "\n",
      "Text 22:\n",
      "  N. tokens:           1449\n",
      "  N. encoded tokens:   1863\n",
      "  Ratio (char/tokens): 0.7777777777777778\n",
      "\n",
      "Text 23:\n",
      "  N. tokens:           2695\n",
      "  N. encoded tokens:   3318\n",
      "  Ratio (char/tokens): 0.8122362869198312\n",
      "\n",
      "Text 24:\n",
      "  N. tokens:           2349\n",
      "  N. encoded tokens:   3054\n",
      "  Ratio (char/tokens): 0.769155206286837\n",
      "\n",
      "Text 25:\n",
      "  N. tokens:           4153\n",
      "  N. encoded tokens:   4835\n",
      "  Ratio (char/tokens): 0.8589451913133402\n",
      "\n",
      "\n",
      "Minimum: (ratios): 0.6702412868632708\n",
      "\n",
      "Maximum (ratios): 0.9185303514376997\n",
      "\n",
      "Average (ratios): 0.82494689804345\n",
      "\n",
      "Std. deviation (ratios): 0.06506437668779755\n",
      "\n"
     ]
    }
   ],
   "source": [
    "print_ratio(texts, token_count, 'tokens', bart_tokenizer)"
   ]
  },
  {
   "cell_type": "markdown",
   "metadata": {},
   "source": [
    "---\n",
    "---\n",
    "---"
   ]
  },
  {
   "cell_type": "markdown",
   "metadata": {},
   "source": [
    "## Artículos"
   ]
  },
  {
   "cell_type": "markdown",
   "metadata": {},
   "source": [
    "### Número de caracteres / Número de tókenes codificados"
   ]
  },
  {
   "cell_type": "markdown",
   "metadata": {},
   "source": [
    "#### Modelo t5-base"
   ]
  },
  {
   "cell_type": "code",
   "execution_count": 24,
   "metadata": {
    "scrolled": true
   },
   "outputs": [
    {
     "name": "stdout",
     "output_type": "stream",
     "text": [
      "Text 1:\n",
      "  N. characters:       12080\n",
      "  N. encoded tokens:   3105\n",
      "  Ratio (char/tokens): 3.890499194847021\n",
      "\n",
      "Text 2:\n",
      "  N. characters:       26974\n",
      "  N. encoded tokens:   6770\n",
      "  Ratio (char/tokens): 3.9843426883308717\n",
      "\n",
      "Text 3:\n",
      "  N. characters:       27655\n",
      "  N. encoded tokens:   7056\n",
      "  Ratio (char/tokens): 3.919359410430839\n",
      "\n",
      "Text 4:\n",
      "  N. characters:       51945\n",
      "  N. encoded tokens:   13658\n",
      "  Ratio (char/tokens): 3.803265485429785\n",
      "\n",
      "Text 5:\n",
      "  N. characters:       91654\n",
      "  N. encoded tokens:   20911\n",
      "  Ratio (char/tokens): 4.38305198221032\n",
      "\n",
      "Text 6:\n",
      "  N. characters:       118637\n",
      "  N. encoded tokens:   29087\n",
      "  Ratio (char/tokens): 4.078694949633857\n",
      "\n",
      "\n",
      "Minimum: (ratios): 3.803265485429785\n",
      "\n",
      "Maximum (ratios): 4.38305198221032\n",
      "\n",
      "Average (ratios): 4.0098689518137824\n",
      "\n",
      "Std. deviation (ratios): 0.18698497736485375\n",
      "\n"
     ]
    }
   ],
   "source": [
    "print_ratio(articles, char_count, 'characters', t5_tokenizer)"
   ]
  },
  {
   "cell_type": "markdown",
   "metadata": {},
   "source": [
    "---"
   ]
  },
  {
   "cell_type": "markdown",
   "metadata": {},
   "source": [
    "#### Modelo bart-base"
   ]
  },
  {
   "cell_type": "code",
   "execution_count": 25,
   "metadata": {
    "scrolled": true
   },
   "outputs": [
    {
     "name": "stdout",
     "output_type": "stream",
     "text": [
      "Text 1:\n",
      "  N. characters:       12080\n",
      "  N. encoded tokens:   2897\n",
      "  Ratio (char/tokens): 4.169830859509838\n",
      "\n",
      "Text 2:\n",
      "  N. characters:       26974\n",
      "  N. encoded tokens:   5965\n",
      "  Ratio (char/tokens): 4.522045264040234\n",
      "\n",
      "Text 3:\n",
      "  N. characters:       27655\n",
      "  N. encoded tokens:   6917\n",
      "  Ratio (char/tokens): 3.99812057250253\n",
      "\n",
      "Text 4:\n",
      "  N. characters:       51945\n",
      "  N. encoded tokens:   12324\n",
      "  Ratio (char/tokens): 4.214946445959105\n",
      "\n",
      "Text 5:\n",
      "  N. characters:       91654\n",
      "  N. encoded tokens:   19700\n",
      "  Ratio (char/tokens): 4.65248730964467\n",
      "\n",
      "Text 6:\n",
      "  N. characters:       118637\n",
      "  N. encoded tokens:   27922\n",
      "  Ratio (char/tokens): 4.248871857316811\n",
      "\n",
      "\n",
      "Minimum: (ratios): 3.99812057250253\n",
      "\n",
      "Maximum (ratios): 4.65248730964467\n",
      "\n",
      "Average (ratios): 4.301050384828865\n",
      "\n",
      "Std. deviation (ratios): 0.22040423876930862\n",
      "\n"
     ]
    }
   ],
   "source": [
    "print_ratio(articles, char_count, 'characters', bart_tokenizer)"
   ]
  },
  {
   "cell_type": "markdown",
   "metadata": {},
   "source": [
    "---"
   ]
  },
  {
   "cell_type": "markdown",
   "metadata": {},
   "source": [
    "### Número de tókens (palabras + puntuación, sin codificar) / Número de tókenes codificados"
   ]
  },
  {
   "cell_type": "markdown",
   "metadata": {},
   "source": [
    "#### Modelo T5-base"
   ]
  },
  {
   "cell_type": "code",
   "execution_count": 26,
   "metadata": {
    "scrolled": true
   },
   "outputs": [
    {
     "name": "stdout",
     "output_type": "stream",
     "text": [
      "Text 1:\n",
      "  N. tokens:           2562\n",
      "  N. encoded tokens:   3105\n",
      "  Ratio (char/tokens): 0.8251207729468599\n",
      "\n",
      "Text 2:\n",
      "  N. tokens:           5310\n",
      "  N. encoded tokens:   6770\n",
      "  Ratio (char/tokens): 0.7843426883308715\n",
      "\n",
      "Text 3:\n",
      "  N. tokens:           5888\n",
      "  N. encoded tokens:   7056\n",
      "  Ratio (char/tokens): 0.8344671201814059\n",
      "\n",
      "Text 4:\n",
      "  N. tokens:           10824\n",
      "  N. encoded tokens:   13658\n",
      "  Ratio (char/tokens): 0.7925025626006736\n",
      "\n",
      "Text 5:\n",
      "  N. tokens:           17055\n",
      "  N. encoded tokens:   20911\n",
      "  Ratio (char/tokens): 0.8155994452680407\n",
      "\n",
      "Text 6:\n",
      "  N. tokens:           24119\n",
      "  N. encoded tokens:   29087\n",
      "  Ratio (char/tokens): 0.8292020490253378\n",
      "\n",
      "\n",
      "Minimum: (ratios): 0.7843426883308715\n",
      "\n",
      "Maximum (ratios): 0.8344671201814059\n",
      "\n",
      "Average (ratios): 0.8135391063921983\n",
      "\n",
      "Std. deviation (ratios): 0.01878233448332706\n",
      "\n"
     ]
    }
   ],
   "source": [
    "print_ratio(articles, token_count, 'tokens', t5_tokenizer)"
   ]
  },
  {
   "cell_type": "markdown",
   "metadata": {},
   "source": [
    "---"
   ]
  },
  {
   "cell_type": "markdown",
   "metadata": {},
   "source": [
    "#### Modelo T5-base"
   ]
  },
  {
   "cell_type": "code",
   "execution_count": 28,
   "metadata": {
    "scrolled": true
   },
   "outputs": [
    {
     "name": "stdout",
     "output_type": "stream",
     "text": [
      "Text 1:\n",
      "  N. tokens:           2562\n",
      "  N. encoded tokens:   2897\n",
      "  Ratio (char/tokens): 0.8843631342768381\n",
      "\n",
      "Text 2:\n",
      "  N. tokens:           5310\n",
      "  N. encoded tokens:   5965\n",
      "  Ratio (char/tokens): 0.8901927912824812\n",
      "\n",
      "Text 3:\n",
      "  N. tokens:           5888\n",
      "  N. encoded tokens:   6917\n",
      "  Ratio (char/tokens): 0.8512360850079514\n",
      "\n",
      "Text 4:\n",
      "  N. tokens:           10824\n",
      "  N. encoded tokens:   12324\n",
      "  Ratio (char/tokens): 0.878286270691334\n",
      "\n",
      "Text 5:\n",
      "  N. tokens:           17055\n",
      "  N. encoded tokens:   19700\n",
      "  Ratio (char/tokens): 0.865736040609137\n",
      "\n",
      "Text 6:\n",
      "  N. tokens:           24119\n",
      "  N. encoded tokens:   27922\n",
      "  Ratio (char/tokens): 0.8637991547883389\n",
      "\n",
      "\n",
      "Minimum: (ratios): 0.8512360850079514\n",
      "\n",
      "Maximum (ratios): 0.8901927912824812\n",
      "\n",
      "Average (ratios): 0.8722689127760134\n",
      "\n",
      "Std. deviation (ratios): 0.013294981971569714\n",
      "\n"
     ]
    }
   ],
   "source": [
    "print_ratio(articles, token_count, 'tokens', bart_tokenizer)"
   ]
  },
  {
   "cell_type": "markdown",
   "metadata": {},
   "source": [
    "---"
   ]
  },
  {
   "cell_type": "markdown",
   "metadata": {},
   "source": [
    "## Todos los textos (hilos + artículos)"
   ]
  },
  {
   "cell_type": "code",
   "execution_count": 41,
   "metadata": {},
   "outputs": [],
   "source": [
    "all_texts = texts + articles\n",
    "\n",
    "# sort the texts so they are in order by number of characters\n",
    "txt = all_texts.pop(25)\n",
    "all_texts = all_texts[:22] + [txt] + all_texts[23:]"
   ]
  },
  {
   "cell_type": "markdown",
   "metadata": {},
   "source": [
    "### Número de caracteres / Número de tókenes codificados"
   ]
  },
  {
   "cell_type": "markdown",
   "metadata": {},
   "source": [
    "#### Modelo T5-base"
   ]
  },
  {
   "cell_type": "code",
   "execution_count": 42,
   "metadata": {},
   "outputs": [
    {
     "name": "stdout",
     "output_type": "stream",
     "text": [
      "Text 1:\n",
      "  N. characters:       925\n",
      "  N. encoded tokens:   223\n",
      "  Ratio (char/tokens): 4.147982062780269\n",
      "\n",
      "Text 2:\n",
      "  N. characters:       1025\n",
      "  N. encoded tokens:   280\n",
      "  Ratio (char/tokens): 3.6607142857142856\n",
      "\n",
      "Text 3:\n",
      "  N. characters:       1222\n",
      "  N. encoded tokens:   306\n",
      "  Ratio (char/tokens): 3.9934640522875817\n",
      "\n",
      "Text 4:\n",
      "  N. characters:       1224\n",
      "  N. encoded tokens:   393\n",
      "  Ratio (char/tokens): 3.114503816793893\n",
      "\n",
      "Text 5:\n",
      "  N. characters:       1662\n",
      "  N. encoded tokens:   452\n",
      "  Ratio (char/tokens): 3.6769911504424777\n",
      "\n",
      "Text 6:\n",
      "  N. characters:       2336\n",
      "  N. encoded tokens:   552\n",
      "  Ratio (char/tokens): 4.231884057971015\n",
      "\n",
      "Text 7:\n",
      "  N. characters:       2562\n",
      "  N. encoded tokens:   591\n",
      "  Ratio (char/tokens): 4.33502538071066\n",
      "\n",
      "Text 8:\n",
      "  N. characters:       2637\n",
      "  N. encoded tokens:   665\n",
      "  Ratio (char/tokens): 3.9654135338345866\n",
      "\n",
      "Text 9:\n",
      "  N. characters:       2706\n",
      "  N. encoded tokens:   681\n",
      "  Ratio (char/tokens): 3.973568281938326\n",
      "\n",
      "Text 10:\n",
      "  N. characters:       2972\n",
      "  N. encoded tokens:   761\n",
      "  Ratio (char/tokens): 3.9053876478318004\n",
      "\n",
      "Text 11:\n",
      "  N. characters:       3027\n",
      "  N. encoded tokens:   737\n",
      "  Ratio (char/tokens): 4.10719131614654\n",
      "\n",
      "Text 12:\n",
      "  N. characters:       3045\n",
      "  N. encoded tokens:   739\n",
      "  Ratio (char/tokens): 4.120433017591339\n",
      "\n",
      "Text 13:\n",
      "  N. characters:       3443\n",
      "  N. encoded tokens:   859\n",
      "  Ratio (char/tokens): 4.008149010477299\n",
      "\n",
      "Text 14:\n",
      "  N. characters:       3485\n",
      "  N. encoded tokens:   932\n",
      "  Ratio (char/tokens): 3.7392703862660945\n",
      "\n",
      "Text 15:\n",
      "  N. characters:       3693\n",
      "  N. encoded tokens:   905\n",
      "  Ratio (char/tokens): 4.080662983425414\n",
      "\n",
      "Text 16:\n",
      "  N. characters:       4569\n",
      "  N. encoded tokens:   1136\n",
      "  Ratio (char/tokens): 4.022007042253521\n",
      "\n",
      "Text 17:\n",
      "  N. characters:       5861\n",
      "  N. encoded tokens:   1415\n",
      "  Ratio (char/tokens): 4.142049469964665\n",
      "\n",
      "Text 18:\n",
      "  N. characters:       5978\n",
      "  N. encoded tokens:   1613\n",
      "  Ratio (char/tokens): 3.7061376317420955\n",
      "\n",
      "Text 19:\n",
      "  N. characters:       6020\n",
      "  N. encoded tokens:   1608\n",
      "  Ratio (char/tokens): 3.743781094527363\n",
      "\n",
      "Text 20:\n",
      "  N. characters:       6186\n",
      "  N. encoded tokens:   1540\n",
      "  Ratio (char/tokens): 4.0168831168831165\n",
      "\n",
      "Text 21:\n",
      "  N. characters:       7185\n",
      "  N. encoded tokens:   1775\n",
      "  Ratio (char/tokens): 4.047887323943662\n",
      "\n",
      "Text 22:\n",
      "  N. characters:       7356\n",
      "  N. encoded tokens:   1990\n",
      "  Ratio (char/tokens): 3.6964824120603015\n",
      "\n",
      "Text 23:\n",
      "  N. characters:       12080\n",
      "  N. encoded tokens:   3105\n",
      "  Ratio (char/tokens): 3.890499194847021\n",
      "\n",
      "Text 24:\n",
      "  N. characters:       13432\n",
      "  N. encoded tokens:   3249\n",
      "  Ratio (char/tokens): 4.13419513696522\n",
      "\n",
      "Text 25:\n",
      "  N. characters:       19659\n",
      "  N. encoded tokens:   5283\n",
      "  Ratio (char/tokens): 3.721181147075525\n",
      "\n",
      "Text 26:\n",
      "  N. characters:       26974\n",
      "  N. encoded tokens:   6770\n",
      "  Ratio (char/tokens): 3.9843426883308717\n",
      "\n",
      "Text 27:\n",
      "  N. characters:       27655\n",
      "  N. encoded tokens:   7056\n",
      "  Ratio (char/tokens): 3.919359410430839\n",
      "\n",
      "Text 28:\n",
      "  N. characters:       51945\n",
      "  N. encoded tokens:   13658\n",
      "  Ratio (char/tokens): 3.803265485429785\n",
      "\n",
      "Text 29:\n",
      "  N. characters:       91654\n",
      "  N. encoded tokens:   20911\n",
      "  Ratio (char/tokens): 4.38305198221032\n",
      "\n",
      "Text 30:\n",
      "  N. characters:       118637\n",
      "  N. encoded tokens:   29087\n",
      "  Ratio (char/tokens): 4.078694949633857\n",
      "\n",
      "\n",
      "Minimum: (ratios): 3.114503816793893\n",
      "\n",
      "Maximum (ratios): 4.38305198221032\n",
      "\n",
      "Average (ratios): 3.9450153023503254\n",
      "\n",
      "Std. deviation (ratios): 0.2439726845818149\n",
      "\n"
     ]
    }
   ],
   "source": [
    "print_ratio(all_texts, char_count, 'characters', t5_tokenizer)"
   ]
  },
  {
   "cell_type": "markdown",
   "metadata": {},
   "source": [
    "---"
   ]
  },
  {
   "cell_type": "markdown",
   "metadata": {},
   "source": [
    "#### Modelo Bart-base"
   ]
  },
  {
   "cell_type": "code",
   "execution_count": 43,
   "metadata": {},
   "outputs": [
    {
     "name": "stdout",
     "output_type": "stream",
     "text": [
      "Text 1:\n",
      "  N. characters:       925\n",
      "  N. encoded tokens:   213\n",
      "  Ratio (char/tokens): 4.342723004694836\n",
      "\n",
      "Text 2:\n",
      "  N. characters:       1025\n",
      "  N. encoded tokens:   257\n",
      "  Ratio (char/tokens): 3.9883268482490273\n",
      "\n",
      "Text 3:\n",
      "  N. characters:       1222\n",
      "  N. encoded tokens:   327\n",
      "  Ratio (char/tokens): 3.7370030581039755\n",
      "\n",
      "Text 4:\n",
      "  N. characters:       1224\n",
      "  N. encoded tokens:   373\n",
      "  Ratio (char/tokens): 3.2815013404825737\n",
      "\n",
      "Text 5:\n",
      "  N. characters:       1662\n",
      "  N. encoded tokens:   426\n",
      "  Ratio (char/tokens): 3.9014084507042255\n",
      "\n",
      "Text 6:\n",
      "  N. characters:       2336\n",
      "  N. encoded tokens:   514\n",
      "  Ratio (char/tokens): 4.544747081712062\n",
      "\n",
      "Text 7:\n",
      "  N. characters:       2562\n",
      "  N. encoded tokens:   599\n",
      "  Ratio (char/tokens): 4.277128547579299\n",
      "\n",
      "Text 8:\n",
      "  N. characters:       2637\n",
      "  N. encoded tokens:   626\n",
      "  Ratio (char/tokens): 4.212460063897764\n",
      "\n",
      "Text 9:\n",
      "  N. characters:       2706\n",
      "  N. encoded tokens:   677\n",
      "  Ratio (char/tokens): 3.9970457902511076\n",
      "\n",
      "Text 10:\n",
      "  N. characters:       2972\n",
      "  N. encoded tokens:   726\n",
      "  Ratio (char/tokens): 4.09366391184573\n",
      "\n",
      "Text 11:\n",
      "  N. characters:       3027\n",
      "  N. encoded tokens:   693\n",
      "  Ratio (char/tokens): 4.367965367965368\n",
      "\n",
      "Text 12:\n",
      "  N. characters:       3045\n",
      "  N. encoded tokens:   734\n",
      "  Ratio (char/tokens): 4.14850136239782\n",
      "\n",
      "Text 13:\n",
      "  N. characters:       3443\n",
      "  N. encoded tokens:   849\n",
      "  Ratio (char/tokens): 4.055359246171967\n",
      "\n",
      "Text 14:\n",
      "  N. characters:       3485\n",
      "  N. encoded tokens:   920\n",
      "  Ratio (char/tokens): 3.7880434782608696\n",
      "\n",
      "Text 15:\n",
      "  N. characters:       3693\n",
      "  N. encoded tokens:   956\n",
      "  Ratio (char/tokens): 3.8629707112970713\n",
      "\n",
      "Text 16:\n",
      "  N. characters:       4569\n",
      "  N. encoded tokens:   979\n",
      "  Ratio (char/tokens): 4.667007150153218\n",
      "\n",
      "Text 17:\n",
      "  N. characters:       5861\n",
      "  N. encoded tokens:   1349\n",
      "  Ratio (char/tokens): 4.344699777613046\n",
      "\n",
      "Text 18:\n",
      "  N. characters:       5978\n",
      "  N. encoded tokens:   1524\n",
      "  Ratio (char/tokens): 3.92257217847769\n",
      "\n",
      "Text 19:\n",
      "  N. characters:       6020\n",
      "  N. encoded tokens:   1455\n",
      "  Ratio (char/tokens): 4.13745704467354\n",
      "\n",
      "Text 20:\n",
      "  N. characters:       6186\n",
      "  N. encoded tokens:   1518\n",
      "  Ratio (char/tokens): 4.075098814229249\n",
      "\n",
      "Text 21:\n",
      "  N. characters:       7185\n",
      "  N. encoded tokens:   1582\n",
      "  Ratio (char/tokens): 4.541719342604298\n",
      "\n",
      "Text 22:\n",
      "  N. characters:       7356\n",
      "  N. encoded tokens:   1863\n",
      "  Ratio (char/tokens): 3.9484702093397748\n",
      "\n",
      "Text 23:\n",
      "  N. characters:       12080\n",
      "  N. encoded tokens:   2897\n",
      "  Ratio (char/tokens): 4.169830859509838\n",
      "\n",
      "Text 24:\n",
      "  N. characters:       13432\n",
      "  N. encoded tokens:   3054\n",
      "  Ratio (char/tokens): 4.3981663392272425\n",
      "\n",
      "Text 25:\n",
      "  N. characters:       19659\n",
      "  N. encoded tokens:   4835\n",
      "  Ratio (char/tokens): 4.065977249224406\n",
      "\n",
      "Text 26:\n",
      "  N. characters:       26974\n",
      "  N. encoded tokens:   5965\n",
      "  Ratio (char/tokens): 4.522045264040234\n",
      "\n",
      "Text 27:\n",
      "  N. characters:       27655\n",
      "  N. encoded tokens:   6917\n",
      "  Ratio (char/tokens): 3.99812057250253\n",
      "\n",
      "Text 28:\n",
      "  N. characters:       51945\n",
      "  N. encoded tokens:   12324\n",
      "  Ratio (char/tokens): 4.214946445959105\n",
      "\n",
      "Text 29:\n",
      "  N. characters:       91654\n",
      "  N. encoded tokens:   19700\n",
      "  Ratio (char/tokens): 4.65248730964467\n",
      "\n",
      "Text 30:\n",
      "  N. characters:       118637\n",
      "  N. encoded tokens:   27922\n",
      "  Ratio (char/tokens): 4.248871857316811\n",
      "\n",
      "\n",
      "Minimum: (ratios): 3.2815013404825737\n",
      "\n",
      "Maximum (ratios): 4.667007150153218\n",
      "\n",
      "Average (ratios): 4.150210622604312\n",
      "\n",
      "Std. deviation (ratios): 0.29303139401784783\n",
      "\n"
     ]
    }
   ],
   "source": [
    "print_ratio(all_texts, char_count, 'characters', bart_tokenizer)"
   ]
  },
  {
   "cell_type": "markdown",
   "metadata": {},
   "source": [
    "---"
   ]
  },
  {
   "cell_type": "markdown",
   "metadata": {},
   "source": [
    "### Número de tókens (palabras + puntuación, sin codificar) / Número de tókenes codificados"
   ]
  },
  {
   "cell_type": "markdown",
   "metadata": {},
   "source": [
    "#### Modelo T5-base"
   ]
  },
  {
   "cell_type": "code",
   "execution_count": 44,
   "metadata": {
    "scrolled": true
   },
   "outputs": [
    {
     "name": "stdout",
     "output_type": "stream",
     "text": [
      "Text 1:\n",
      "  N. tokens:           187\n",
      "  N. encoded tokens:   223\n",
      "  Ratio (char/tokens): 0.8385650224215246\n",
      "\n",
      "Text 2:\n",
      "  N. tokens:           223\n",
      "  N. encoded tokens:   280\n",
      "  Ratio (char/tokens): 0.7964285714285714\n",
      "\n",
      "Text 3:\n",
      "  N. tokens:           300\n",
      "  N. encoded tokens:   306\n",
      "  Ratio (char/tokens): 0.9803921568627451\n",
      "\n",
      "Text 4:\n",
      "  N. tokens:           250\n",
      "  N. encoded tokens:   393\n",
      "  Ratio (char/tokens): 0.6361323155216285\n",
      "\n",
      "Text 5:\n",
      "  N. tokens:           359\n",
      "  N. encoded tokens:   452\n",
      "  Ratio (char/tokens): 0.7942477876106194\n",
      "\n",
      "Text 6:\n",
      "  N. tokens:           442\n",
      "  N. encoded tokens:   552\n",
      "  Ratio (char/tokens): 0.8007246376811594\n",
      "\n",
      "Text 7:\n",
      "  N. tokens:           477\n",
      "  N. encoded tokens:   591\n",
      "  Ratio (char/tokens): 0.8071065989847716\n",
      "\n",
      "Text 8:\n",
      "  N. tokens:           575\n",
      "  N. encoded tokens:   665\n",
      "  Ratio (char/tokens): 0.8646616541353384\n",
      "\n",
      "Text 9:\n",
      "  N. tokens:           541\n",
      "  N. encoded tokens:   681\n",
      "  Ratio (char/tokens): 0.7944199706314243\n",
      "\n",
      "Text 10:\n",
      "  N. tokens:           551\n",
      "  N. encoded tokens:   761\n",
      "  Ratio (char/tokens): 0.7240473061760841\n",
      "\n",
      "Text 11:\n",
      "  N. tokens:           541\n",
      "  N. encoded tokens:   737\n",
      "  Ratio (char/tokens): 0.7340569877883311\n",
      "\n",
      "Text 12:\n",
      "  N. tokens:           602\n",
      "  N. encoded tokens:   739\n",
      "  Ratio (char/tokens): 0.8146143437077131\n",
      "\n",
      "Text 13:\n",
      "  N. tokens:           689\n",
      "  N. encoded tokens:   859\n",
      "  Ratio (char/tokens): 0.8020954598370198\n",
      "\n",
      "Text 14:\n",
      "  N. tokens:           718\n",
      "  N. encoded tokens:   932\n",
      "  Ratio (char/tokens): 0.7703862660944206\n",
      "\n",
      "Text 15:\n",
      "  N. tokens:           738\n",
      "  N. encoded tokens:   905\n",
      "  Ratio (char/tokens): 0.8154696132596685\n",
      "\n",
      "Text 16:\n",
      "  N. tokens:           875\n",
      "  N. encoded tokens:   1136\n",
      "  Ratio (char/tokens): 0.7702464788732394\n",
      "\n",
      "Text 17:\n",
      "  N. tokens:           1233\n",
      "  N. encoded tokens:   1415\n",
      "  Ratio (char/tokens): 0.8713780918727915\n",
      "\n",
      "Text 18:\n",
      "  N. tokens:           1055\n",
      "  N. encoded tokens:   1613\n",
      "  Ratio (char/tokens): 0.6540607563546187\n",
      "\n",
      "Text 19:\n",
      "  N. tokens:           1255\n",
      "  N. encoded tokens:   1608\n",
      "  Ratio (char/tokens): 0.7804726368159204\n",
      "\n",
      "Text 20:\n",
      "  N. tokens:           1330\n",
      "  N. encoded tokens:   1540\n",
      "  Ratio (char/tokens): 0.8636363636363636\n",
      "\n",
      "Text 21:\n",
      "  N. tokens:           1413\n",
      "  N. encoded tokens:   1775\n",
      "  Ratio (char/tokens): 0.796056338028169\n",
      "\n",
      "Text 22:\n",
      "  N. tokens:           1449\n",
      "  N. encoded tokens:   1990\n",
      "  Ratio (char/tokens): 0.728140703517588\n",
      "\n",
      "Text 23:\n",
      "  N. tokens:           2562\n",
      "  N. encoded tokens:   3105\n",
      "  Ratio (char/tokens): 0.8251207729468599\n",
      "\n",
      "Text 24:\n",
      "  N. tokens:           2349\n",
      "  N. encoded tokens:   3249\n",
      "  Ratio (char/tokens): 0.7229916897506925\n",
      "\n",
      "Text 25:\n",
      "  N. tokens:           4153\n",
      "  N. encoded tokens:   5283\n",
      "  Ratio (char/tokens): 0.7861063789513534\n",
      "\n",
      "Text 26:\n",
      "  N. tokens:           5310\n",
      "  N. encoded tokens:   6770\n",
      "  Ratio (char/tokens): 0.7843426883308715\n",
      "\n",
      "Text 27:\n",
      "  N. tokens:           5888\n",
      "  N. encoded tokens:   7056\n",
      "  Ratio (char/tokens): 0.8344671201814059\n",
      "\n",
      "Text 28:\n",
      "  N. tokens:           10824\n",
      "  N. encoded tokens:   13658\n",
      "  Ratio (char/tokens): 0.7925025626006736\n",
      "\n",
      "Text 29:\n",
      "  N. tokens:           17055\n",
      "  N. encoded tokens:   20911\n",
      "  Ratio (char/tokens): 0.8155994452680407\n",
      "\n",
      "Text 30:\n",
      "  N. tokens:           24119\n",
      "  N. encoded tokens:   29087\n",
      "  Ratio (char/tokens): 0.8292020490253378\n",
      "\n",
      "\n",
      "Minimum: (ratios): 0.6361323155216285\n",
      "\n",
      "Maximum (ratios): 0.9803921568627451\n",
      "\n",
      "Average (ratios): 0.7942557589431647\n",
      "\n",
      "Std. deviation (ratios): 0.06373915566190319\n",
      "\n"
     ]
    }
   ],
   "source": [
    "print_ratio(all_texts, token_count, 'tokens', t5_tokenizer)"
   ]
  },
  {
   "cell_type": "markdown",
   "metadata": {},
   "source": [
    "---"
   ]
  },
  {
   "cell_type": "markdown",
   "metadata": {},
   "source": [
    "#### Modelo Bart-base"
   ]
  },
  {
   "cell_type": "code",
   "execution_count": 46,
   "metadata": {
    "scrolled": true
   },
   "outputs": [
    {
     "name": "stdout",
     "output_type": "stream",
     "text": [
      "Text 1:\n",
      "  N. tokens:           187\n",
      "  N. encoded tokens:   213\n",
      "  Ratio (char/tokens): 0.8779342723004695\n",
      "\n",
      "Text 2:\n",
      "  N. tokens:           223\n",
      "  N. encoded tokens:   257\n",
      "  Ratio (char/tokens): 0.867704280155642\n",
      "\n",
      "Text 3:\n",
      "  N. tokens:           300\n",
      "  N. encoded tokens:   327\n",
      "  Ratio (char/tokens): 0.9174311926605505\n",
      "\n",
      "Text 4:\n",
      "  N. tokens:           250\n",
      "  N. encoded tokens:   373\n",
      "  Ratio (char/tokens): 0.6702412868632708\n",
      "\n",
      "Text 5:\n",
      "  N. tokens:           359\n",
      "  N. encoded tokens:   426\n",
      "  Ratio (char/tokens): 0.8427230046948356\n",
      "\n",
      "Text 6:\n",
      "  N. tokens:           442\n",
      "  N. encoded tokens:   514\n",
      "  Ratio (char/tokens): 0.8599221789883269\n",
      "\n",
      "Text 7:\n",
      "  N. tokens:           477\n",
      "  N. encoded tokens:   599\n",
      "  Ratio (char/tokens): 0.7963272120200334\n",
      "\n",
      "Text 8:\n",
      "  N. tokens:           575\n",
      "  N. encoded tokens:   626\n",
      "  Ratio (char/tokens): 0.9185303514376997\n",
      "\n",
      "Text 9:\n",
      "  N. tokens:           541\n",
      "  N. encoded tokens:   677\n",
      "  Ratio (char/tokens): 0.7991137370753324\n",
      "\n",
      "Text 10:\n",
      "  N. tokens:           551\n",
      "  N. encoded tokens:   726\n",
      "  Ratio (char/tokens): 0.7589531680440771\n",
      "\n",
      "Text 11:\n",
      "  N. tokens:           541\n",
      "  N. encoded tokens:   693\n",
      "  Ratio (char/tokens): 0.7806637806637806\n",
      "\n",
      "Text 12:\n",
      "  N. tokens:           602\n",
      "  N. encoded tokens:   734\n",
      "  Ratio (char/tokens): 0.8201634877384196\n",
      "\n",
      "Text 13:\n",
      "  N. tokens:           689\n",
      "  N. encoded tokens:   849\n",
      "  Ratio (char/tokens): 0.8115429917550059\n",
      "\n",
      "Text 14:\n",
      "  N. tokens:           718\n",
      "  N. encoded tokens:   920\n",
      "  Ratio (char/tokens): 0.7804347826086957\n",
      "\n",
      "Text 15:\n",
      "  N. tokens:           738\n",
      "  N. encoded tokens:   956\n",
      "  Ratio (char/tokens): 0.7719665271966527\n",
      "\n",
      "Text 16:\n",
      "  N. tokens:           875\n",
      "  N. encoded tokens:   979\n",
      "  Ratio (char/tokens): 0.8937691521961185\n",
      "\n",
      "Text 17:\n",
      "  N. tokens:           1233\n",
      "  N. encoded tokens:   1349\n",
      "  Ratio (char/tokens): 0.9140103780578206\n",
      "\n",
      "Text 18:\n",
      "  N. tokens:           1055\n",
      "  N. encoded tokens:   1524\n",
      "  Ratio (char/tokens): 0.6922572178477691\n",
      "\n",
      "Text 19:\n",
      "  N. tokens:           1255\n",
      "  N. encoded tokens:   1455\n",
      "  Ratio (char/tokens): 0.8625429553264605\n",
      "\n",
      "Text 20:\n",
      "  N. tokens:           1330\n",
      "  N. encoded tokens:   1518\n",
      "  Ratio (char/tokens): 0.8761528326745718\n",
      "\n",
      "Text 21:\n",
      "  N. tokens:           1413\n",
      "  N. encoded tokens:   1582\n",
      "  Ratio (char/tokens): 0.893173198482933\n",
      "\n",
      "Text 22:\n",
      "  N. tokens:           1449\n",
      "  N. encoded tokens:   1863\n",
      "  Ratio (char/tokens): 0.7777777777777778\n",
      "\n",
      "Text 23:\n",
      "  N. tokens:           2562\n",
      "  N. encoded tokens:   2897\n",
      "  Ratio (char/tokens): 0.8843631342768381\n",
      "\n",
      "Text 24:\n",
      "  N. tokens:           2349\n",
      "  N. encoded tokens:   3054\n",
      "  Ratio (char/tokens): 0.769155206286837\n",
      "\n",
      "Text 25:\n",
      "  N. tokens:           4153\n",
      "  N. encoded tokens:   4835\n",
      "  Ratio (char/tokens): 0.8589451913133402\n",
      "\n",
      "Text 26:\n",
      "  N. tokens:           5310\n",
      "  N. encoded tokens:   5965\n",
      "  Ratio (char/tokens): 0.8901927912824812\n",
      "\n",
      "Text 27:\n",
      "  N. tokens:           5888\n",
      "  N. encoded tokens:   6917\n",
      "  Ratio (char/tokens): 0.8512360850079514\n",
      "\n",
      "Text 28:\n",
      "  N. tokens:           10824\n",
      "  N. encoded tokens:   12324\n",
      "  Ratio (char/tokens): 0.878286270691334\n",
      "\n",
      "Text 29:\n",
      "  N. tokens:           17055\n",
      "  N. encoded tokens:   19700\n",
      "  Ratio (char/tokens): 0.865736040609137\n",
      "\n",
      "Text 30:\n",
      "  N. tokens:           24119\n",
      "  N. encoded tokens:   27922\n",
      "  Ratio (char/tokens): 0.8637991547883389\n",
      "\n",
      "\n",
      "Minimum: (ratios): 0.6702412868632708\n",
      "\n",
      "Maximum (ratios): 0.9185303514376997\n",
      "\n",
      "Average (ratios): 0.8348349880274166\n",
      "\n",
      "Std. deviation (ratios): 0.06251301631048894\n",
      "\n"
     ]
    }
   ],
   "source": [
    "print_ratio(all_texts, token_count, 'tokens', bart_tokenizer)"
   ]
  },
  {
   "cell_type": "markdown",
   "metadata": {},
   "source": [
    "---\n",
    "---\n",
    "---"
   ]
  },
  {
   "cell_type": "markdown",
   "metadata": {},
   "source": [
    "## Comparativa gráfica (hilos + artículos)"
   ]
  },
  {
   "cell_type": "code",
   "execution_count": 47,
   "metadata": {},
   "outputs": [],
   "source": [
    "EXPORT_AS_PGF = False # set to False if you want to visualize the plots in the notebook\n",
    "\n",
    "if EXPORT_AS_PGF:\n",
    "    PLOTS_DIR = './exported_plots/'\n",
    "    \n",
    "    import matplotlib as mpl\n",
    "\n",
    "    # Use the pgf backend (must be done before import pyplot interface)\n",
    "    mpl.use('pgf')\n",
    "\n",
    "    import matplotlib.pyplot as plt\n",
    "\n",
    "    plt.style.use('ggplot')\n",
    "\n",
    "    plt.rcParams.update({\n",
    "        \"font.family\": \"serif\",  # use serif/main font for text elements\n",
    "        \"axes.labelsize\": 13.5,    # fontsize of the x and y labels\n",
    "        \"xtick.labelsize\": 12,   # fontsize of the xtick labels\n",
    "        \"ytick.labelsize\": 12,   # fontsize of the ytick labels\n",
    "        \"text.usetex\": True,     # use inline math for ticks\n",
    "        \"pgf.rcfonts\": False     # don't setup fonts from rc parameters\n",
    "        })\n",
    "else:\n",
    "    import matplotlib.pyplot as plt"
   ]
  },
  {
   "cell_type": "code",
   "execution_count": 48,
   "metadata": {},
   "outputs": [],
   "source": [
    "def get_count_and_ratio(texts, count_function, tokenizer):\n",
    "    \"\"\"Calculates metrics over the texts.\n",
    "    \n",
    "    Args:\n",
    "        texts:\n",
    "            list of texts to analyse.\n",
    "        count_function:\n",
    "            function that calculates some metric, e.g. the number of\n",
    "            characters of a text.\n",
    "        tokenizer:\n",
    "            model used for encoding the text.\n",
    "    \n",
    "    Returns:\n",
    "        A list containing tuples with the metric calculated by count_function\n",
    "        and the number of codified tokens, e.g. [(925, 213), (1025, 257), ...].\n",
    "    \"\"\"\n",
    "    \n",
    "    counts = []\n",
    "    \n",
    "    for txt in texts:\n",
    "        ratio, count, _ = ratio_to_codified_tokens(txt, count_function, tokenizer)\n",
    "        counts.append((count, ratio))\n",
    "    \n",
    "    return counts"
   ]
  },
  {
   "cell_type": "code",
   "execution_count": 49,
   "metadata": {},
   "outputs": [],
   "source": [
    "def plot_results(texts, count_function, tokenizer, xlabel, ylabel, filename=None, export=True):\n",
    "    \"\"\"Plots the results of the analysis.\"\"\"\n",
    "\n",
    "    counts = get_count_and_ratio(texts, count_function, tokenizer)\n",
    "\n",
    "    n_characters = np.array(counts, dtype=np.int64)[:,0] # first column\n",
    "    n_encoded_tokens = np.array(counts)[:,1] # second column\n",
    "\n",
    "    y_pos = np.arange(len(n_characters))\n",
    "\n",
    "    plt.figure(figsize=(12, 4))\n",
    "\n",
    "    plt.bar(y_pos, n_encoded_tokens, align='center', color=\"darkorange\", alpha=0.8)\n",
    "    plt.xticks(y_pos, n_characters, rotation=90)\n",
    "    plt.xlabel(xlabel)\n",
    "    plt.ylabel(ylabel)\n",
    "\n",
    "    plt.plot(y_pos, [np.mean(n_encoded_tokens)] * len(n_characters), \"r-\", linewidth=3)\n",
    "    \n",
    "    if export:\n",
    "        plt.savefig(PLOTS_DIR + filename, bbox_inches='tight')\n",
    "    else:\n",
    "        plt.show()"
   ]
  },
  {
   "cell_type": "markdown",
   "metadata": {},
   "source": [
    "---"
   ]
  },
  {
   "cell_type": "markdown",
   "metadata": {},
   "source": [
    "### Número de caracteres / Número de tókenes codificados"
   ]
  },
  {
   "cell_type": "markdown",
   "metadata": {},
   "source": [
    "#### Modelo T5-base"
   ]
  },
  {
   "cell_type": "code",
   "execution_count": 50,
   "metadata": {},
   "outputs": [
    {
     "data": {
      "image/png": "[encoded data removed]",
      "text/plain": [
       "<Figure size 864x288 with 1 Axes>"
      ]
     },
     "metadata": {
      "needs_background": "light"
     },
     "output_type": "display_data"
    }
   ],
   "source": [
    "plot_results(all_texts,\n",
    "             char_count,\n",
    "             t5_tokenizer,\n",
    "             xlabel='Número de caracteres',\n",
    "             ylabel='Número de tókenes codificados',\n",
    "             filename='t5-base-chars.pgf',\n",
    "             export=EXPORT_AS_PGF)"
   ]
  },
  {
   "cell_type": "markdown",
   "metadata": {},
   "source": [
    "#### Modelo bart-base"
   ]
  },
  {
   "cell_type": "code",
   "execution_count": 34,
   "metadata": {},
   "outputs": [
    {
     "data": {
      "image/png": "[encoded data removed]",
      "text/plain": [
       "<Figure size 864x288 with 1 Axes>"
      ]
     },
     "metadata": {
      "needs_background": "light"
     },
     "output_type": "display_data"
    }
   ],
   "source": [
    "plot_results(all_texts,\n",
    "             char_count,\n",
    "             bart_tokenizer,\n",
    "             xlabel='Número de caracteres',\n",
    "             ylabel='Número de tókenes codificados',\n",
    "             filename='bart-base-chars.pgf',\n",
    "             export=EXPORT_AS_PGF)"
   ]
  },
  {
   "cell_type": "markdown",
   "metadata": {},
   "source": [
    "---"
   ]
  },
  {
   "cell_type": "markdown",
   "metadata": {},
   "source": [
    "\n",
    "### Número de tókens (palabras + puntuación, sin codificar) / Número de tókenes codificados"
   ]
  },
  {
   "cell_type": "markdown",
   "metadata": {},
   "source": [
    "#### Modelo T5-base"
   ]
  },
  {
   "cell_type": "code",
   "execution_count": 35,
   "metadata": {},
   "outputs": [
    {
     "data": {
      "image/png": "[encoded data removed]",
      "text/plain": [
       "<Figure size 864x288 with 1 Axes>"
      ]
     },
     "metadata": {
      "needs_background": "light"
     },
     "output_type": "display_data"
    }
   ],
   "source": [
    "plot_results(all_texts,\n",
    "             token_count,\n",
    "             t5_tokenizer,\n",
    "             xlabel='Número de tókens sin codificar',\n",
    "             ylabel='Número de tókenes codificados',\n",
    "             filename='t5-base-tokens.pgf',\n",
    "             export=EXPORT_AS_PGF)"
   ]
  },
  {
   "cell_type": "markdown",
   "metadata": {},
   "source": [
    "#### Modelo bart-base"
   ]
  },
  {
   "cell_type": "code",
   "execution_count": 36,
   "metadata": {},
   "outputs": [
    {
     "data": {
      "image/png": "[encoded data removed]",
      "text/plain": [
       "<Figure size 864x288 with 1 Axes>"
      ]
     },
     "metadata": {
      "needs_background": "light"
     },
     "output_type": "display_data"
    }
   ],
   "source": [
    "plot_results(all_texts,\n",
    "             token_count,\n",
    "             bart_tokenizer,\n",
    "             xlabel='Número de tókens sin codificar',\n",
    "             ylabel='Número de tókenes codificados',\n",
    "             filename='bart-base-tokens.pgf',\n",
    "             export=EXPORT_AS_PGF)"
   ]
  },
  {
   "cell_type": "markdown",
   "metadata": {},
   "source": [
    "---\n",
    "\n",
    "---\n",
    "\n",
    "---"
   ]
  }
 ],
 "metadata": {
  "kernelspec": {
   "display_name": "Python 3",
   "language": "python",
   "name": "python3"
  },
  "language_info": {
   "codemirror_mode": {
    "name": "ipython",
    "version": 3
   },
   "file_extension": ".py",
   "mimetype": "text/x-python",
   "name": "python",
   "nbconvert_exporter": "python",
   "pygments_lexer": "ipython3",
   "version": "3.8.6"
  }
 },
 "nbformat": 4,
 "nbformat_minor": 4
}
